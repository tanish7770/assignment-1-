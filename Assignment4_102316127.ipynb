{
 "cells": [
  {
   "cell_type": "markdown",
   "metadata": {},
   "source": [
    "Question 1\n",
    "Q.1 Write a program to create a NumPy 1D-array with 5 elements and perform basic\n",
    "operations like:\n",
    "a) Addition of 2 in all the element\n",
    "b) Multiply 3 with all the elements\n",
    "c) Divide every element by 2"
   ]
  },
  {
   "cell_type": "code",
   "execution_count": 9,
   "metadata": {},
   "outputs": [
    {
     "name": "stdout",
     "output_type": "stream",
     "text": [
      "[3 4 5 6 7]\n",
      "[ 3  6  9 12 15]\n",
      "[0.5 1.  1.5 2.  2.5]\n"
     ]
    }
   ],
   "source": [
    "import numpy as np\n",
    "arr1 = np.array([1,2,3,4,5])\n",
    "# Addition \n",
    "print(arr1+2)\n",
    "\n",
    "# Multiplication\n",
    "print(arr1*3)\n",
    "\n",
    "# Divide\n",
    "print(arr1/2)"
   ]
  },
  {
   "cell_type": "markdown",
   "metadata": {},
   "source": [
    "Question 2 \n",
    "Q.2 Questions on Basic NumPy Array:\n",
    "a) Reverse the NumPy array: arr = np.array([1, 2, 3, 6, 4, 5])\n",
    "b) Find the most frequent value and their indice(s) in the following arrays:\n",
    "i. x = np.array([1,2,3,4,5,1,2,1,1,1])\n",
    "ii. y = np.array([1, 1, 1, 2, 3, 4, 2, 4, 3, 3, ])"
   ]
  },
  {
   "cell_type": "code",
   "execution_count": 10,
   "metadata": {},
   "outputs": [
    {
     "name": "stdout",
     "output_type": "stream",
     "text": [
      "[6 5 4 3 2 1]\n",
      "Most frequent value in x: 1\n",
      "Indices: [0 5 7 8 9]\n",
      "Most frequent value in y: 1\n",
      "Indices: [0 1 2]\n"
     ]
    }
   ],
   "source": [
    "arr2 = np.array([1,2,3,4,5,6])\n",
    "reversed_arr = arr2[::-1]\n",
    "print(reversed_arr)\n",
    "\n",
    "def most_frequent(array):\n",
    "    unique, counts = np.unique(array, return_counts=True)  \n",
    "    most_frequent_value = unique[np.argmax(counts)] \n",
    "    indices = np.where(array == most_frequent_value)[0]  \n",
    "    return most_frequent_value, indices\n",
    "\n",
    "# (i) For x array\n",
    "x = np.array([1, 2, 3, 4, 5, 1, 2, 1, 1, 1])\n",
    "most_frequent_x, indices_x = most_frequent(x)\n",
    "print(\"Most frequent value in x:\", most_frequent_x)\n",
    "print(\"Indices:\", indices_x)\n",
    "\n",
    "# (ii) For y array\n",
    "y = np.array([1, 1, 1, 2, 3, 4, 2, 4, 3, 3])\n",
    "most_frequent_y, indices_y = most_frequent(y)\n",
    "print(\"Most frequent value in y:\", most_frequent_y)\n",
    "print(\"Indices:\", indices_y)\n"
   ]
  },
  {
   "cell_type": "markdown",
   "metadata": {},
   "source": [
    "Question 3 \n",
    "Q.3 For the given 2-D array arr=np.array([10, 20, 30], [40, 50, 60], [70, 80, 90]), access\n",
    "elements using row and column indices as follows:\n",
    "a) Access 1st row, 2nd column\n",
    "b) Access 3rd row, 1st column"
   ]
  },
  {
   "cell_type": "code",
   "execution_count": 11,
   "metadata": {},
   "outputs": [
    {
     "name": "stdout",
     "output_type": "stream",
     "text": [
      "Element at 1st row, 2nd column: 20\n",
      "Element at 3rd row, 1st column: 70\n"
     ]
    }
   ],
   "source": [
    "arr3 = np.array([\n",
    "    [10, 20, 30], \n",
    "    [40, 50, 60], \n",
    "    [70, 80, 90]\n",
    "])\n",
    "\n",
    "element_a = arr3[0, 1]  \n",
    "element_b = arr3[2, 0]  \n",
    "\n",
    "print(\"Element at 1st row, 2nd column:\", element_a)\n",
    "print(\"Element at 3rd row, 1st column:\", element_b)  \n"
   ]
  },
  {
   "cell_type": "markdown",
   "metadata": {},
   "source": [
    "Question 4\n",
    "Q.4 Write program to create an 1-D NumPy array named <<Your Name>> with evenly\n",
    "spaced 25 numbers from 10 to 100 using linspace(). Print the dimensions of the array,\n",
    "shape, total elements, the data type of each element and total number of bytes consumed\n",
    "by the array. Find the transpose of this array using reshape() attribute. Can we do the same\n",
    "with T attribute?"
   ]
  },
  {
   "cell_type": "code",
   "execution_count": 12,
   "metadata": {},
   "outputs": [
    {
     "name": "stdout",
     "output_type": "stream",
     "text": [
      "Array: [ 10.    13.75  17.5   21.25  25.    28.75  32.5   36.25  40.    43.75\n",
      "  47.5   51.25  55.    58.75  62.5   66.25  70.    73.75  77.5   81.25\n",
      "  85.    88.75  92.5   96.25 100.  ]\n",
      "Dimensions: 1\n",
      "Shape: (25,)\n",
      "Total Elements: 25\n",
      "Data Type of Elements: float64\n",
      "Total Bytes Consumed: 200\n",
      "\n",
      "Transposed using reshape():\n",
      " [[ 10.  ]\n",
      " [ 13.75]\n",
      " [ 17.5 ]\n",
      " [ 21.25]\n",
      " [ 25.  ]\n",
      " [ 28.75]\n",
      " [ 32.5 ]\n",
      " [ 36.25]\n",
      " [ 40.  ]\n",
      " [ 43.75]\n",
      " [ 47.5 ]\n",
      " [ 51.25]\n",
      " [ 55.  ]\n",
      " [ 58.75]\n",
      " [ 62.5 ]\n",
      " [ 66.25]\n",
      " [ 70.  ]\n",
      " [ 73.75]\n",
      " [ 77.5 ]\n",
      " [ 81.25]\n",
      " [ 85.  ]\n",
      " [ 88.75]\n",
      " [ 92.5 ]\n",
      " [ 96.25]\n",
      " [100.  ]]\n",
      "\n",
      "Transposed using .T:\n",
      " [ 10.    13.75  17.5   21.25  25.    28.75  32.5   36.25  40.    43.75\n",
      "  47.5   51.25  55.    58.75  62.5   66.25  70.    73.75  77.5   81.25\n",
      "  85.    88.75  92.5   96.25 100.  ]\n",
      "\n",
      "Is reshaped array same as .T? : False\n"
     ]
    }
   ],
   "source": [
    "import numpy as np\n",
    "\n",
    "Baghel = np.linspace(10, 100, 25)\n",
    "\n",
    "print(\"Array:\", Baghel)\n",
    "print(\"Dimensions:\", Baghel.ndim) \n",
    "print(\"Shape:\", Baghel.shape)  \n",
    "print(\"Total Elements:\", Baghel.size)  \n",
    "print(\"Data Type of Elements:\", Baghel.dtype)  \n",
    "print(\"Total Bytes Consumed:\", Baghel.nbytes)  \n",
    "\n",
    "\n",
    "transposed_array = Baghel.reshape(25, 1)\n",
    "print(\"\\nTransposed using reshape():\\n\", transposed_array)\n",
    "\n",
    "print(\"\\nTransposed using .T:\\n\", Baghel.T) \n",
    "\n",
    "print(\"\\nIs reshaped array same as .T? :\", np.array_equal(transposed_array, Baghel.T))\n"
   ]
  },
  {
   "cell_type": "markdown",
   "metadata": {},
   "source": [
    "Question 5 \n",
    "Q5. Create a 2-D Array of three rows and four columns, named ucs420_<your_name>>\n",
    "with following values – 10, 20, 30, 40, 50, 60, 70, 80, 90, 15, 20, 35. Compute the mean,\n",
    "median, max, min, unique elements. Reshape the array to four rows and three columns and\n",
    "name it as reshaped_ ucs420_<your_name>>. Resize the array to two rows and three\n",
    "columns and name it as resized_ ucs420_<your_name>>."
   ]
  },
  {
   "cell_type": "code",
   "execution_count": 13,
   "metadata": {},
   "outputs": [
    {
     "name": "stdout",
     "output_type": "stream",
     "text": [
      "Original 3x4 Array (ucs420_Baghel):\n",
      " [[10 20 30 40]\n",
      " [50 60 70 80]\n",
      " [90 15 20 35]]\n",
      "\n",
      "Mean: 43.333333333333336\n",
      "Median: 37.5\n",
      "Max Value: 90\n",
      "Min Value: 10\n",
      "Unique Elements: [10 15 20 30 35 40 50 60 70 80 90]\n",
      "\n",
      "Reshaped (4x3) Array:\n",
      " [[10 20 30]\n",
      " [40 50 60]\n",
      " [70 80 90]\n",
      " [15 20 35]]\n",
      "\n",
      "Resized (2x3) Array:\n",
      " [[10 20 30]\n",
      " [40 50 60]]\n"
     ]
    }
   ],
   "source": [
    "ucs420_Baghel = np.array([\n",
    "    [10, 20, 30, 40], \n",
    "    [50, 60, 70, 80], \n",
    "    [90, 15, 20, 35]\n",
    "])\n",
    "\n",
    "# Step 2: Compute statistics\n",
    "mean_value = np.mean(ucs420_Baghel)     \n",
    "median_value = np.median(ucs420_Baghel)  \n",
    "max_value = np.max(ucs420_Baghel)        \n",
    "min_value = np.min(ucs420_Baghel)         \n",
    "unique_values = np.unique(ucs420_Baghel)  \n",
    "\n",
    "reshaped_ucs420_Baghel = ucs420_Baghel.reshape(4, 3)\n",
    "\n",
    "\n",
    "resized_ucs420_Baghel = np.resize(ucs420_Baghel, (2, 3))\n",
    "\n",
    "# Step 5: Print results\n",
    "print(\"Original 3x4 Array (ucs420_Baghel):\\n\", ucs420_Baghel)\n",
    "print(\"\\nMean:\", mean_value)\n",
    "print(\"Median:\", median_value)\n",
    "print(\"Max Value:\", max_value)\n",
    "print(\"Min Value:\", min_value)\n",
    "print(\"Unique Elements:\", unique_values)\n",
    "\n",
    "print(\"\\nReshaped (4x3) Array:\\n\", reshaped_ucs420_Baghel)\n",
    "print(\"\\nResized (2x3) Array:\\n\", resized_ucs420_Baghel)\n"
   ]
  }
 ],
 "metadata": {
  "kernelspec": {
   "display_name": "Python 3",
   "language": "python",
   "name": "python3"
  },
  "language_info": {
   "codemirror_mode": {
    "name": "ipython",
    "version": 3
   },
   "file_extension": ".py",
   "mimetype": "text/x-python",
   "name": "python",
   "nbconvert_exporter": "python",
   "pygments_lexer": "ipython3",
   "version": "3.12.3"
  }
 },
 "nbformat": 4,
 "nbformat_minor": 2
}
